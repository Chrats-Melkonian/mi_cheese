{
 "cells": [
  {
   "cell_type": "code",
   "execution_count": 1,
   "metadata": {},
   "outputs": [],
   "source": [
    "from pathlib import Path\n",
    "\n",
    "import glob\n",
    "import shutil \n",
    "from Bio import SeqIO\n",
    "import pandas as pd \n",
    "import os\n",
    "import time\n",
    "import csv\n",
    "\n",
    "# Initiate functions\n",
    "from cobra.io import sbml\n",
    "from chmrapi.io import cobra_model\n",
    "import cobra\n",
    "\n",
    "\n",
    "import os\n",
    "from os.path import join"
   ]
  },
  {
   "cell_type": "markdown",
   "metadata": {},
   "source": [
    "## Import tables\n"
   ]
  },
  {
   "cell_type": "code",
   "execution_count": 2,
   "metadata": {},
   "outputs": [],
   "source": [
    "overview_normLgene = pd.read_csv('./OGcore_Total_overview_Lgene_norm.csv', index_col=0)\n",
    "\n",
    "overview_normTPM = pd.read_csv('./OGcore_Total_overview_TPM_norm.csv', index_col=0)\n",
    "\n",
    "\n",
    "\n"
   ]
  },
  {
   "cell_type": "markdown",
   "metadata": {},
   "source": [
    "## Import model\n"
   ]
  },
  {
   "cell_type": "code",
   "execution_count": 3,
   "metadata": {},
   "outputs": [],
   "source": [
    "# Get the currated lac model\n",
    "data_dir = \"/Users/dkinkj/Documents/Azure/CHMR/lactococcus_lactis_sp/model_files/json\"\n",
    "\n",
    "Lac_panmodel = cobra.io.load_json_model(join(data_dir, \"panmodel_draft.json\"))\n",
    "\n",
    "\n"
   ]
  },
  {
   "cell_type": "code",
   "execution_count": 4,
   "metadata": {},
   "outputs": [
    {
     "name": "stdout",
     "output_type": "stream",
     "text": [
      "# Reactions:  866\n",
      "# Metabolites:  743\n",
      "# Genes:  563\n"
     ]
    }
   ],
   "source": [
    "print('# Reactions: ', len(Lac_panmodel.reactions))\n",
    "print('# Metabolites: ', len(Lac_panmodel.metabolites))\n",
    "print('# Genes: ', len(Lac_panmodel.genes))\n",
    "\n"
   ]
  },
  {
   "cell_type": "code",
   "execution_count": 5,
   "metadata": {},
   "outputs": [
    {
     "data": {
      "text/html": [
       "<strong><em>Optimal</em> solution with objective value 0.297</strong><br><div>\n",
       "<style scoped>\n",
       "    .dataframe tbody tr th:only-of-type {\n",
       "        vertical-align: middle;\n",
       "    }\n",
       "\n",
       "    .dataframe tbody tr th {\n",
       "        vertical-align: top;\n",
       "    }\n",
       "\n",
       "    .dataframe thead th {\n",
       "        text-align: right;\n",
       "    }\n",
       "</style>\n",
       "<table border=\"1\" class=\"dataframe\">\n",
       "  <thead>\n",
       "    <tr style=\"text-align: right;\">\n",
       "      <th></th>\n",
       "      <th>fluxes</th>\n",
       "      <th>reduced_costs</th>\n",
       "    </tr>\n",
       "  </thead>\n",
       "  <tbody>\n",
       "    <tr>\n",
       "      <th>ACALDt</th>\n",
       "      <td>0.000000</td>\n",
       "      <td>-4.250073e-17</td>\n",
       "    </tr>\n",
       "    <tr>\n",
       "      <th>ACMANApts</th>\n",
       "      <td>0.000000</td>\n",
       "      <td>0.000000e+00</td>\n",
       "    </tr>\n",
       "    <tr>\n",
       "      <th>ACTNdiff</th>\n",
       "      <td>0.000000</td>\n",
       "      <td>0.000000e+00</td>\n",
       "    </tr>\n",
       "    <tr>\n",
       "      <th>ACt2r</th>\n",
       "      <td>-8.275635</td>\n",
       "      <td>-0.000000e+00</td>\n",
       "    </tr>\n",
       "    <tr>\n",
       "      <th>ADEt2</th>\n",
       "      <td>0.000000</td>\n",
       "      <td>0.000000e+00</td>\n",
       "    </tr>\n",
       "    <tr>\n",
       "      <th>...</th>\n",
       "      <td>...</td>\n",
       "      <td>...</td>\n",
       "    </tr>\n",
       "    <tr>\n",
       "      <th>URFGTT</th>\n",
       "      <td>0.000000</td>\n",
       "      <td>1.040834e-17</td>\n",
       "    </tr>\n",
       "    <tr>\n",
       "      <th>XANt</th>\n",
       "      <td>0.000000</td>\n",
       "      <td>-0.000000e+00</td>\n",
       "    </tr>\n",
       "    <tr>\n",
       "      <th>XYLI1</th>\n",
       "      <td>0.000000</td>\n",
       "      <td>0.000000e+00</td>\n",
       "    </tr>\n",
       "    <tr>\n",
       "      <th>XYLI2</th>\n",
       "      <td>0.000000</td>\n",
       "      <td>0.000000e+00</td>\n",
       "    </tr>\n",
       "    <tr>\n",
       "      <th>XYLK</th>\n",
       "      <td>0.000000</td>\n",
       "      <td>0.000000e+00</td>\n",
       "    </tr>\n",
       "  </tbody>\n",
       "</table>\n",
       "<p>866 rows × 2 columns</p>\n",
       "</div>"
      ],
      "text/plain": [
       "<Solution 0.297 at 0x127ace240>"
      ]
     },
     "execution_count": 5,
     "metadata": {},
     "output_type": "execute_result"
    }
   ],
   "source": [
    "Lac_panmodel.solver = 'glpk'\n",
    "solution = Lac_panmodel.optimize()\n",
    "solution"
   ]
  },
  {
   "cell_type": "code",
   "execution_count": 9,
   "metadata": {},
   "outputs": [
    {
     "data": {
      "text/plain": [
       "563"
      ]
     },
     "execution_count": 9,
     "metadata": {},
     "output_type": "execute_result"
    }
   ],
   "source": [
    "gene_in_model = [g.id for g in Lac_panmodel.genes]\n",
    "len(gene_in_model)"
   ]
  },
  {
   "cell_type": "markdown",
   "metadata": {},
   "source": [
    "## Investigate difference for minus ST"
   ]
  },
  {
   "cell_type": "code",
   "execution_count": 7,
   "metadata": {},
   "outputs": [
    {
     "name": "stdout",
     "output_type": "stream",
     "text": [
      "368\n"
     ]
    },
    {
     "data": {
      "text/plain": [
       "59"
      ]
     },
     "execution_count": 7,
     "metadata": {},
     "output_type": "execute_result"
    }
   ],
   "source": [
    "genes_padj_minusST = overview_normLgene[overview_normLgene['padj.minusSTvsAll']<0.01].index\n",
    "print(len(genes_padj_minusST))\n",
    "\n",
    "genes_padj_log2FC_minusST = overview_normLgene[(overview_normLgene['padj.minusSTvsAll']<0.01) & (abs(overview_normLgene['log2FoldChange.minusSTvsAll'])>1)].index\n",
    "len(genes_padj_log2FC_minusST)"
   ]
  },
  {
   "cell_type": "code",
   "execution_count": 10,
   "metadata": {},
   "outputs": [
    {
     "name": "stdout",
     "output_type": "stream",
     "text": [
      "OG1286 Ammonium transporter\n",
      "padj.minusSTvsAll 8.458354250480598e-106 log2FoldChange 4.68\n",
      "NH4t: nh4_e <=> nh4_c LB:  -1000.0 UB 1000.0 flux 0.0 ['Transport']\n",
      "OG1305 D-methionine-binding lipoprotein MetQ\n",
      "padj.minusSTvsAll 6.03472320099067e-25 log2FoldChange -1.63\n",
      "METabc: atp_c + h2o_c + met__L_e --> adp_c + h_c + met__L_c + pi_c LB:  0.0 UB 1000.0 flux 0.0 ['Exchange', 'Transport']\n",
      "METDabc: atp_c + h2o_c + met__D_e --> adp_c + h_c + met__D_c + pi_c LB:  0.0 UB 1000.0 flux 0.0 ['Transport']\n",
      "OG1306 putative D-methionine-binding lipoprotein MetQ\n",
      "padj.minusSTvsAll 6.509846422671821e-23 log2FoldChange -1.61\n",
      "METabc: atp_c + h2o_c + met__L_e --> adp_c + h_c + met__L_c + pi_c LB:  0.0 UB 1000.0 flux 0.0 ['Exchange', 'Transport']\n",
      "METDabc: atp_c + h2o_c + met__D_e --> adp_c + h_c + met__D_c + pi_c LB:  0.0 UB 1000.0 flux 0.0 ['Transport']\n",
      "OG1307 putative D-methionine-binding lipoprotein MetQ AND D-methionine-binding lipoprotein MetQ\n",
      "padj.minusSTvsAll 4.4177443775183704e-23 log2FoldChange -1.64\n",
      "METabc: atp_c + h2o_c + met__L_e --> adp_c + h_c + met__L_c + pi_c LB:  0.0 UB 1000.0 flux 0.0 ['Exchange', 'Transport']\n",
      "METDabc: atp_c + h2o_c + met__D_e --> adp_c + h_c + met__D_c + pi_c LB:  0.0 UB 1000.0 flux 0.0 ['Transport']\n",
      "OG1310 Methionine import ATP-binding protein MetN\n",
      "padj.minusSTvsAll 2.31424259474106e-27 log2FoldChange -1.37\n",
      "METabc: atp_c + h2o_c + met__L_e --> adp_c + h_c + met__L_c + pi_c LB:  0.0 UB 1000.0 flux 0.0 ['Exchange', 'Transport']\n",
      "METDabc: atp_c + h2o_c + met__D_e --> adp_c + h_c + met__D_c + pi_c LB:  0.0 UB 1000.0 flux 0.0 ['Transport']\n",
      "OG1311 Methionine import system permease protein MetP\n",
      "padj.minusSTvsAll 2.6192273851757394e-21 log2FoldChange -1.25\n",
      "METabc: atp_c + h2o_c + met__L_e --> adp_c + h_c + met__L_c + pi_c LB:  0.0 UB 1000.0 flux 0.0 ['Exchange', 'Transport']\n",
      "METDabc: atp_c + h2o_c + met__D_e --> adp_c + h_c + met__D_c + pi_c LB:  0.0 UB 1000.0 flux 0.0 ['Transport']\n",
      "OG1313 Glutamine synthetase\n",
      "padj.minusSTvsAll 2.010870391417679e-228 log2FoldChange 3.69\n",
      "GLNS: atp_c + glu__L_c + nh4_c --> adp_c + gln__L_c + h_c + pi_c LB:  0.0 UB 1000.0 flux 1.1193053176174501 ['Exchange', 'Nitrogen Metabolism', 'Amino Acid Metabolism', 'Glutamate Metabolism']\n",
      "OG1362 GMP reductase\n",
      "padj.minusSTvsAll 2.0846476926023197e-49 log2FoldChange 1.24\n",
      "GMPR: gmp_c + 2.0 h_c + nadph_c --> imp_c + nadp_c + nh4_c LB:  0.0 UB 1000.0 flux 0.5272303744013489 ['Exchange', 'Purine and Pyrimidine Metabolism', 'Nucleotide Metabolism']\n",
      "OG1439 Glutamine transport ATP-binding protein GlnQ\n",
      "padj.minusSTvsAll 3.49968906123507e-21 log2FoldChange 1.4\n",
      "AEPabc: 2aeppn_e + atp_c + h2o_c --> 2aeppn_c + adp_c + h_c + pi_c LB:  0.0 UB 1000.0 flux 0.0 ['Transport']\n",
      "OG1440 Guanine/hypoxanthine permease PbuO\n",
      "padj.minusSTvsAll 2.4045761679398797e-30 log2FoldChange 1.82\n",
      "HXANt2r: h_e + hxan_e --> h_c + hxan_c LB:  0.0 UB 1000.0 flux 0.0 ['Transport']\n",
      "GUAt2r: gua_e + h_e --> gua_c + h_c LB:  0.0 UB 1000.0 flux 0.5625032718877738 ['Transport']\n",
      "OG1562 Orotate phosphoribosyltransferase\n",
      "padj.minusSTvsAll 8.061705348148281e-17 log2FoldChange 1.26\n",
      "ORPT: orot5p_c + ppi_c <=> orot_c + prpp_c LB:  -1000.0 UB 1000.0 flux 0.0 ['Exchange', 'Purine and Pyrimidine Metabolism', 'Nucleotide Metabolism']\n",
      "OG1610 Phosphoribosylformylglycinamidine synthase subunit PurL\n",
      "padj.minusSTvsAll 2.09222817201705e-27 log2FoldChange 1.31\n",
      "PRFGS_1: atp_c + fgam_c + gln__L_c + h2o_c --> adp_c + fpram_c + glu__L_c + 2.0 h_c + pi_c LB:  0.0 UB 1000.0 flux 0.0 ['Exchange', 'Nucleotide Metabolism']\n",
      "OG1615 Phosphoribosylformylglycinamidine cyclo-ligase\n",
      "padj.minusSTvsAll 1.52938355049969e-17 log2FoldChange 1.36\n",
      "PRAIS_1: atp_c + fpram_c --> adp_c + air_c + h_c + pi_c LB:  0.0 UB 1000.0 flux 0.0 ['Exchange', 'Nucleotide Metabolism']\n",
      "OG1617 Orotidine 5'-phosphate decarboxylase\n",
      "padj.minusSTvsAll 7.553162393905919e-23 log2FoldChange 1.8\n",
      "OMPDC: h_c + orot5p_c --> co2_c + ump_c LB:  0.0 UB 1000.0 flux 0.0 ['Exchange', 'Purine and Pyrimidine Metabolism', 'Nucleotide Metabolism']\n",
      "OG1691 Carbamoyl-phosphate synthase small chain\n",
      "padj.minusSTvsAll 2.07671248108737e-13 log2FoldChange 1.27\n",
      "CBPS: 2.0 atp_c + gln__L_c + h2o_c + hco3_c --> 2.0 adp_c + cbp_c + glu__L_c + 2.0 h_c + pi_c LB:  0.0 UB 1000.0 flux 0.0 ['Purine and Pyrimidine Metabolism', 'Unassigned', 'Exchange', 'Amino Acid Metabolism', 'Arginine and Proline Metabolism']\n",
      "OG1697 Aspartate carbamoyltransferase\n",
      "padj.minusSTvsAll 6.748550849374721e-15 log2FoldChange 1.34\n",
      "ASPCT: asp__L_c + cbp_c --> cbasp_c + h_c + pi_c LB:  0.0 UB 1000.0 flux 0.0 ['Exchange', 'Purine and Pyrimidine Metabolism', 'Nucleotide Metabolism', 'Unassigned']\n",
      "OG1699 Uracil permease\n",
      "padj.minusSTvsAll 1.28151718597524e-18 log2FoldChange 1.43\n",
      "URAt2: h_e + ura_e --> h_c + ura_c LB:  0.0 UB 1000.0 flux 0.052100389390151436 ['Transport']\n",
      "OG1723 Arginine transport ATP-binding protein ArtM\n",
      "padj.minusSTvsAll 4.0075530657245994e-57 log2FoldChange 2.16\n",
      "GLUabc: atp_c + glu__L_e + h2o_c --> adp_c + glu__L_c + h_c + pi_c LB:  0.0 UB 1000.0 flux 0.0 ['Transport']\n",
      "GLNabc: atp_c + gln__L_e + h2o_c --> adp_c + gln__L_c + h_c + pi_c LB:  0.0 UB 1000.0 flux 0.5000000000000004 ['Transport']\n",
      "ARGabc: arg__L_e + atp_c + h2o_c --> adp_c + arg__L_c + h_c + pi_c LB:  0.0 UB 1000.0 flux 0.0 ['Exchange', 'Transport']\n",
      "LYSabc: atp_c + h2o_c + lys__L_e --> adp_c + h_c + lys__L_c + pi_c LB:  0.0 UB 1000.0 flux 0.0 ['Transport']\n",
      "OG1724 Membrane-bound lytic murein transglycosylase F\n",
      "padj.minusSTvsAll 2.0872245520765294e-83 log2FoldChange 2.6\n",
      "GLNabc: atp_c + gln__L_e + h2o_c --> adp_c + gln__L_c + h_c + pi_c LB:  0.0 UB 1000.0 flux 0.5000000000000004 ['Transport']\n",
      "OG2075 Argininosuccinate synthase\n",
      "padj.minusSTvsAll 3.74359641973711e-06 log2FoldChange -1.04\n",
      "ARGSS: asp__L_c + atp_c + citr__L_c --> amp_c + argsuc_c + h_c + ppi_c LB:  0.0 UB 1000.0 flux 0.0 ['Exchange', 'Amino Acid Metabolism', 'Arginine and Proline Metabolism', 'Unassigned']\n",
      "OG387 5,10-methylenetetrahydrofolate reductase\n",
      "padj.minusSTvsAll 3.6985325922043403e-08 log2FoldChange -1.1\n",
      "MTHFR3: 2.0 h_c + mlthf_c + nadph_c <=> 5mthf_c + nadp_c LB:  -1000.0 UB 1000.0 flux 0.10216411097265585 ['Cofactor and Prosthetic Group Biosynthesis', 'Folate Metabolism', 'One Carbon pool by folate']\n",
      "OG590 N5-carboxyaminoimidazole ribonucleotide synthase\n",
      "padj.minusSTvsAll 5.8480812334652e-21 log2FoldChange 1.05\n",
      "AIRCr: air_c + co2_c --> 5aizc_c + h_c LB:  0.0 UB 1000.0 flux 0.0 ['Exchange', 'Purine and Pyrimidine Metabolism']\n",
      "AIRC2: air_c + atp_c + hco3_c --> 5caiz_c + adp_c + h_c + pi_c LB:  0.0 UB 1000.0 flux 0.0 ['Purine and Pyrimidine Metabolism']\n",
      "OG591 N5-carboxyaminoimidazole ribonucleotide mutase\n",
      "padj.minusSTvsAll 7.296529761177741e-17 log2FoldChange 1.77\n",
      "AIRC1: air_c + atp_c + co2_c + h2o_c --> 5aizc_c + adp_c + 2.0 h_c + pi_c LB:  0.0 UB 1000.0 flux 0.0 ['Nucleotide Metabolism']\n",
      "AIRCr: air_c + co2_c --> 5aizc_c + h_c LB:  0.0 UB 1000.0 flux 0.0 ['Exchange', 'Purine and Pyrimidine Metabolism']\n",
      "AIRC3: 5aizc_c <=> 5caiz_c LB:  -1000.0 UB 1000.0 flux 0.0 ['Purine and Pyrimidine Metabolism']\n",
      "OG593 Phosphoribosylamine--glycine ligase\n",
      "padj.minusSTvsAll 1.3845845557659698e-19 log2FoldChange 1.23\n",
      "PRAGSr: atp_c + gly_c + pram_c --> adp_c + gar_c + h_c + pi_c LB:  0.0 UB 1000.0 flux 0.0 ['Exchange', 'Purine and Pyrimidine Metabolism', 'Nucleotide Metabolism']\n",
      "OG595 Bifunctional purine biosynthesis protein PurH\n",
      "padj.minusSTvsAll 1.4742411173592998e-54 log2FoldChange 1.59\n",
      "IMPC: h2o_c + imp_c <=> fprica_c LB:  -1000.0 UB 1000.0 flux -0.022489594958924938 ['Exchange', 'Purine and Pyrimidine Metabolism', 'Nucleotide Metabolism']\n",
      "AICART: 10fthf_c + aicar_c <=> fprica_c + thf_c LB:  -1000.0 UB 1000.0 flux 0.022489594958924938 ['Folate Metabolism', 'Purine and Pyrimidine Metabolism', 'Nucleotide Metabolism', 'Unassigned']\n",
      "OG599 Dihydroorotate dehydrogenase B (NAD(+)), electron transfer subunit\n",
      "padj.minusSTvsAll 9.123912654989359e-20 log2FoldChange 1.78\n",
      "DHORD6: dhor__S_c + nad_c --> h_c + nadh_c + orot_c LB:  0.0 UB 0.0 flux 0.0 ['Exchange']\n",
      "DHORDi: dhor__S_c + o2_c <=> h2o2_c + orot_c LB:  -1000.0 UB 1000.0 flux 0.0 ['Exchange', 'Purine and Pyrimidine Metabolism', 'Nucleotide Metabolism']\n",
      "OG601 Phosphoribosylglycinamide formyltransferase\n",
      "padj.minusSTvsAll 1.0095365477775801e-14 log2FoldChange 1.14\n",
      "GARFT: 10fthf_c + gar_c <=> fgam_c + h_c + thf_c LB:  -1000.0 UB 1000.0 flux 0.0 ['Folate Metabolism', 'Purine and Pyrimidine Metabolism', 'One Carbon pool by folate', 'Unassigned', 'Nucleotide Metabolism']\n",
      "OG604 Amidophosphoribosyltransferase\n",
      "padj.minusSTvsAll 8.05509983790816e-24 log2FoldChange 1.39\n",
      "GLUPRT: gln__L_c + h2o_c + prpp_c --> glu__L_c + ppi_c + pram_c LB:  0.0 UB 1000.0 flux 0.0 ['Exchange', 'Purine and Pyrimidine Metabolism', 'Nucleotide Metabolism']\n",
      "OG606 Phosphoribosylformylglycinamidine synthase subunit PurS\n",
      "padj.minusSTvsAll 7.547486719519309e-19 log2FoldChange 1.84\n",
      "PRFGS_1: atp_c + fgam_c + gln__L_c + h2o_c --> adp_c + fpram_c + glu__L_c + 2.0 h_c + pi_c LB:  0.0 UB 1000.0 flux 0.0 ['Exchange', 'Nucleotide Metabolism']\n",
      "OG607 Phosphoribosylaminoimidazole-succinocarboxamide synthase\n",
      "padj.minusSTvsAll 1.3597308615134498e-24 log2FoldChange 1.26\n",
      "PRASCSi: 5aizc_c + asp__L_c + atp_c <=> 25aics_c + adp_c + h_c + pi_c LB:  -1000.0 UB 1000.0 flux 0.0 ['Exchange', 'Purine and Pyrimidine Metabolism', 'Nucleotide Metabolism']\n",
      "OG650 Dihydroorotase\n",
      "padj.minusSTvsAll 8.51714707460149e-21 log2FoldChange 1.27\n",
      "DHORTS: dhor__S_c + h2o_c <=> cbasp_c + h_c LB:  -1000.0 UB 1000.0 flux 0.0 ['Exchange', 'Purine and Pyrimidine Metabolism', 'Nucleotide Metabolism']\n",
      "OG754 hypothetical protein\n",
      "padj.minusSTvsAll 6.85554457516683e-16 log2FoldChange 1.44\n",
      "AEPabc: 2aeppn_e + atp_c + h2o_c --> 2aeppn_c + adp_c + h_c + pi_c LB:  0.0 UB 1000.0 flux 0.0 ['Transport']\n",
      "OG811 NADH oxidase\n",
      "padj.minusSTvsAll 7.93907522412989e-11 log2FoldChange -1.16\n",
      "NADHPO: h2o2_c + h_c + nadh_c --> 2.0 h2o_c + nad_c LB:  0.0 UB 0.0 flux 0.0 ['Exchange']\n",
      "NOX: h_c + nadh_c + o2_c --> h2o2_c + nad_c LB:  0.0 UB 1000.0 flux 0.0 ['Exchange']\n",
      "NOX2: 2.0 h_c + 2.0 nadh_c + o2_c --> 2.0 h2o_c + 2.0 nad_c LB:  0.0 UB 0.0 flux 0.0 ['Exchange']\n",
      "OG832 Dihydroorotate dehydrogenase B (NAD(+)), catalytic subunit\n",
      "padj.minusSTvsAll 4.3367881515154196e-20 log2FoldChange 1.94\n",
      "DHORD6: dhor__S_c + nad_c --> h_c + nadh_c + orot_c LB:  0.0 UB 0.0 flux 0.0 ['Exchange']\n",
      "DHORDi: dhor__S_c + o2_c <=> h2o2_c + orot_c LB:  -1000.0 UB 1000.0 flux 0.0 ['Exchange', 'Purine and Pyrimidine Metabolism', 'Nucleotide Metabolism']\n",
      "OG866 Phosphoribosylformylglycinamidine synthase subunit PurQ\n",
      "padj.minusSTvsAll 1.52534360583782e-19 log2FoldChange 1.31\n",
      "PRFGS_1: atp_c + fgam_c + gln__L_c + h2o_c --> adp_c + fpram_c + glu__L_c + 2.0 h_c + pi_c LB:  0.0 UB 1000.0 flux 0.0 ['Exchange', 'Nucleotide Metabolism']\n",
      "OG913 hypothetical protein\n",
      "padj.minusSTvsAll 8.22462695431108e-16 log2FoldChange -1.5\n",
      "CHITN1: chitin_c + h2o_c --> acgam_c LB:  0.0 UB 1000.0 flux 0.0 ['Exchange']\n"
     ]
    },
    {
     "data": {
      "text/plain": [
       "36"
      ]
     },
     "execution_count": 10,
     "metadata": {},
     "output_type": "execute_result"
    }
   ],
   "source": [
    "N_gene_in_model_ST=0\n",
    "sys_change={}\n",
    "for gene in genes_padj_minusST:\n",
    "    \n",
    "    if gene in gene_in_model:\n",
    "        Lac_panmodel.genes.get_by_id(gene)\n",
    "        \n",
    "        #'All_norm: ', round(overview_normLgene.loc[gene]['All_norm'],1), 'minus.5614_norm:', round(overview_normLgene.loc[gene]['minus.5614_norm'],1), 'minus.6086_norm:', round(overview_normLgene.loc[gene]['minus.6086_norm'],1), 'minus.10675_norm:', round(overview_normLgene.loc[gene]['minus.10675_norm'],1), 'minus.SICO_norm:',round(overview_normLgene.loc[gene]['minus.SICO_norm'],1)\n",
    "        #if overview_normLgene.loc[gene]['padj.minusSTvsAll']<0.01:\n",
    "        if (overview_normLgene.loc[gene]['padj.minusSTvsAll']<0.01) & (abs(overview_normLgene.loc[gene]['log2FoldChange.minusSTvsAll'])>1):\n",
    "            N_gene_in_model_ST+=1\n",
    "        \n",
    "            print(gene, overview_normLgene.loc[gene]['Description'])\n",
    "            print('padj.minusSTvsAll', overview_normLgene.loc[gene]['padj.minusSTvsAll'], 'log2FoldChange', round(overview_normLgene.loc[gene]['log2FoldChange.minusSTvsAll'],2))\n",
    "       \n",
    "            for r in Lac_panmodel.genes.get_by_id(gene).reactions:\n",
    "                print(r, 'LB: ', r.lower_bound, 'UB', r.upper_bound, 'flux', r.flux, r.subsystem)\n",
    "                if r.subsystem ==[]:\n",
    "                    sys_change['No_subsystem']\n",
    "                for sys in r.subsystem:\n",
    "                    if sys in sys_change:\n",
    "                        sys_change[sys]+=1\n",
    "                    else:\n",
    "                        sys_change[sys]=1\n",
    "\n",
    "N_gene_in_model_ST\n",
    "\n"
   ]
  },
  {
   "cell_type": "code",
   "execution_count": 11,
   "metadata": {},
   "outputs": [
    {
     "data": {
      "text/html": [
       "<div>\n",
       "<style scoped>\n",
       "    .dataframe tbody tr th:only-of-type {\n",
       "        vertical-align: middle;\n",
       "    }\n",
       "\n",
       "    .dataframe tbody tr th {\n",
       "        vertical-align: top;\n",
       "    }\n",
       "\n",
       "    .dataframe thead th {\n",
       "        text-align: right;\n",
       "    }\n",
       "</style>\n",
       "<table border=\"1\" class=\"dataframe\">\n",
       "  <thead>\n",
       "    <tr style=\"text-align: right;\">\n",
       "      <th></th>\n",
       "      <th>Number_diff_genes</th>\n",
       "    </tr>\n",
       "  </thead>\n",
       "  <tbody>\n",
       "    <tr>\n",
       "      <th>Exchange</th>\n",
       "      <td>32</td>\n",
       "    </tr>\n",
       "    <tr>\n",
       "      <th>Transport</th>\n",
       "      <td>21</td>\n",
       "    </tr>\n",
       "    <tr>\n",
       "      <th>Purine and Pyrimidine Metabolism</th>\n",
       "      <td>18</td>\n",
       "    </tr>\n",
       "    <tr>\n",
       "      <th>Nucleotide Metabolism</th>\n",
       "      <td>18</td>\n",
       "    </tr>\n",
       "    <tr>\n",
       "      <th>Unassigned</th>\n",
       "      <td>5</td>\n",
       "    </tr>\n",
       "    <tr>\n",
       "      <th>Amino Acid Metabolism</th>\n",
       "      <td>3</td>\n",
       "    </tr>\n",
       "    <tr>\n",
       "      <th>Folate Metabolism</th>\n",
       "      <td>3</td>\n",
       "    </tr>\n",
       "    <tr>\n",
       "      <th>Arginine and Proline Metabolism</th>\n",
       "      <td>2</td>\n",
       "    </tr>\n",
       "    <tr>\n",
       "      <th>One Carbon pool by folate</th>\n",
       "      <td>2</td>\n",
       "    </tr>\n",
       "    <tr>\n",
       "      <th>Nitrogen Metabolism</th>\n",
       "      <td>1</td>\n",
       "    </tr>\n",
       "    <tr>\n",
       "      <th>Glutamate Metabolism</th>\n",
       "      <td>1</td>\n",
       "    </tr>\n",
       "    <tr>\n",
       "      <th>Cofactor and Prosthetic Group Biosynthesis</th>\n",
       "      <td>1</td>\n",
       "    </tr>\n",
       "  </tbody>\n",
       "</table>\n",
       "</div>"
      ],
      "text/plain": [
       "                                            Number_diff_genes\n",
       "Exchange                                                   32\n",
       "Transport                                                  21\n",
       "Purine and Pyrimidine Metabolism                           18\n",
       "Nucleotide Metabolism                                      18\n",
       "Unassigned                                                  5\n",
       "Amino Acid Metabolism                                       3\n",
       "Folate Metabolism                                           3\n",
       "Arginine and Proline Metabolism                             2\n",
       "One Carbon pool by folate                                   2\n",
       "Nitrogen Metabolism                                         1\n",
       "Glutamate Metabolism                                        1\n",
       "Cofactor and Prosthetic Group Biosynthesis                  1"
      ]
     },
     "execution_count": 11,
     "metadata": {},
     "output_type": "execute_result"
    }
   ],
   "source": [
    "sys_change_df=pd.DataFrame.from_dict(sys_change, orient='index')\n",
    "sys_change_df.columns=['Number_diff_genes']\n",
    "sys_change_df.sort_values(by='Number_diff_genes', ascending=False)"
   ]
  },
  {
   "cell_type": "code",
   "execution_count": null,
   "metadata": {},
   "outputs": [],
   "source": []
  },
  {
   "cell_type": "code",
   "execution_count": 12,
   "metadata": {},
   "outputs": [],
   "source": [
    "minusST_log2FoldChange = overview_normLgene[['log2FoldChange.minusSTvsAll']]\n",
    "\n",
    "minus5614_log2FoldChange = overview_normLgene[['log2FoldChange.minus5614vsAll']]\n",
    "minus6086_log2FoldChange = overview_normLgene[['log2FoldChange.minus6086vsAll']]\n",
    "minus10675_log2FoldChange = overview_normLgene[['log2FoldChange.minus10675vsAll']]\n",
    "minusSICO_log2FoldChange = overview_normLgene[['log2FoldChange.minusSICOvsAll']]\n"
   ]
  },
  {
   "cell_type": "code",
   "execution_count": 13,
   "metadata": {},
   "outputs": [],
   "source": [
    "minusST_log2FoldChange.to_csv('./DataEscher/DataEscher_core_minusST_log2FoldChange.csv')\n",
    "minus5614_log2FoldChange.to_csv('./DataEscher/DataEscher_core_minus5614_log2FoldChange.csv')\n",
    "minus6086_log2FoldChange.to_csv('./DataEscher/DataEscher_core_minus6086_log2FoldChange.csv')\n",
    "minus10675_log2FoldChange.to_csv('./DataEscher/DataEscher_core_minus10675_log2FoldChange.csv')\n",
    "minusSICO_log2FoldChange.to_csv('./DataEscher/DataEscher_core_minusSICO_log2FoldChange.csv')\n",
    "\n",
    "\n"
   ]
  },
  {
   "cell_type": "code",
   "execution_count": null,
   "metadata": {},
   "outputs": [],
   "source": []
  }
 ],
 "metadata": {
  "kernelspec": {
   "display_name": "Python 3",
   "language": "python",
   "name": "python3"
  },
  "language_info": {
   "codemirror_mode": {
    "name": "ipython",
    "version": 3
   },
   "file_extension": ".py",
   "mimetype": "text/x-python",
   "name": "python",
   "nbconvert_exporter": "python",
   "pygments_lexer": "ipython3",
   "version": "3.6.7"
  }
 },
 "nbformat": 4,
 "nbformat_minor": 4
}
